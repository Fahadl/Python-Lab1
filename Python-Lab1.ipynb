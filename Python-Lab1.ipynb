{
 "cells": [
  {
   "cell_type": "code",
   "execution_count": 4,
   "id": "5f19fb31",
   "metadata": {},
   "outputs": [
    {
     "ename": "SyntaxError",
     "evalue": "invalid syntax (1287928563.py, line 1)",
     "output_type": "error",
     "traceback": [
      "\u001b[0;36m  File \u001b[0;32m\"/var/folders/t2/lwg348s91755jjv__0b81p0c0000gn/T/ipykernel_21114/1287928563.py\"\u001b[0;36m, line \u001b[0;32m1\u001b[0m\n\u001b[0;31m    string se = 'My favorite season is Winter!'\u001b[0m\n\u001b[0m           ^\u001b[0m\n\u001b[0;31mSyntaxError\u001b[0m\u001b[0;31m:\u001b[0m invalid syntax\n"
     ]
    }
   ],
   "source": [
    "string se = 'My favorite season is Winter!'\n"
   ]
  },
  {
   "cell_type": "code",
   "execution_count": null,
   "id": "2af5cefb",
   "metadata": {},
   "outputs": [],
   "source": [
    "float x = 7.7"
   ]
  },
  {
   "cell_type": "code",
   "execution_count": null,
   "id": "f6eeeb29",
   "metadata": {},
   "outputs": [],
   "source": [
    "int y = 77"
   ]
  },
  {
   "cell_type": "code",
   "execution_count": null,
   "id": "4edc29fa",
   "metadata": {},
   "outputs": [],
   "source": [
    "g, h, j, = 'val 1', 'val 2','val 3'"
   ]
  },
  {
   "cell_type": "code",
   "execution_count": null,
   "id": "17f1a295",
   "metadata": {},
   "outputs": [],
   "source": [
    "f = d = a = 'one to to many variables'"
   ]
  }
 ],
 "metadata": {
  "kernelspec": {
   "display_name": "Python 3 (ipykernel)",
   "language": "python",
   "name": "python3"
  },
  "language_info": {
   "codemirror_mode": {
    "name": "ipython",
    "version": 3
   },
   "file_extension": ".py",
   "mimetype": "text/x-python",
   "name": "python",
   "nbconvert_exporter": "python",
   "pygments_lexer": "ipython3",
   "version": "3.9.13"
  }
 },
 "nbformat": 4,
 "nbformat_minor": 5
}
